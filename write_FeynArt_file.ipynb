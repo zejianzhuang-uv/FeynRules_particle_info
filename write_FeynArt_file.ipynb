{
 "cells": [
  {
   "cell_type": "code",
   "execution_count": 25,
   "id": "44cb1447",
   "metadata": {},
   "outputs": [
    {
     "data": {
      "text/plain": [
       "write_params_info (generic function with 1 method)"
      ]
     },
     "metadata": {},
     "output_type": "display_data"
    }
   ],
   "source": [
    "include(\"./particle.jl\")"
   ]
  },
  {
   "cell_type": "code",
   "execution_count": 26,
   "id": "9a115aa9",
   "metadata": {},
   "outputs": [],
   "source": [
    "file_path = \"./particle.fr\";"
   ]
  },
  {
   "cell_type": "code",
   "execution_count": 27,
   "id": "f0668126",
   "metadata": {},
   "outputs": [],
   "source": [
    "particle_list = [\"pip\", \"pi0\", \"Kp\", \"K0\", \"eta\", \"Dp\", \"D0\", \"Dsp\",\n",
    "\"p\", \"n\", \"L\", \"Sigp\", \"Sigm\", \"Sig0\", \"Xi0\", \"Xim\",\n",
    "\"rhop\", \"rho0\", \"Kstp\", \"Kst0\", \"phi\", \"ome\"]\n",
    "write_field_info(particle_list, file_path)\n",
    "factor_list = [\"fa\", \"gg\"]\n",
    "tex_list = [\"f\", \"g\"]\n",
    "write_params_info(factor_list, tex_list, file_path)"
   ]
  }
 ],
 "metadata": {
  "kernelspec": {
   "display_name": "Julia 1.11.5",
   "language": "julia",
   "name": "julia-1.11"
  },
  "language_info": {
   "file_extension": ".jl",
   "mimetype": "application/julia",
   "name": "julia",
   "version": "1.11.5"
  }
 },
 "nbformat": 4,
 "nbformat_minor": 5
}
