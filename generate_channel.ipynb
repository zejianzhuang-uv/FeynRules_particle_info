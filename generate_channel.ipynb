{
 "cells": [
  {
   "cell_type": "code",
   "execution_count": 1,
   "id": "b3de7909",
   "metadata": {},
   "outputs": [
    {
     "data": {
      "text/plain": [
       "write_params_info (generic function with 1 method)"
      ]
     },
     "metadata": {},
     "output_type": "display_data"
    }
   ],
   "source": [
    "include(\"./particle.jl\")"
   ]
  },
  {
   "cell_type": "code",
   "execution_count": 2,
   "id": "4bd35644",
   "metadata": {},
   "outputs": [
    {
     "data": {
      "text/plain": [
       "Dict{Symbol, Any} with 10 entries:\n",
       "  :isospin          => 0.5\n",
       "  :name             => \"Dstp\"\n",
       "  :Q                => 1\n",
       "  :S                => 0\n",
       "  :i3               => 0.5\n",
       "  :mass             => 2010\n",
       "  :FA_id            => \"V[7]\"\n",
       "  :PropagatorType   => \"Straight\"\n",
       "  :selfcharged      => \"False\"\n",
       "  :AntiParticleName => \"Dstm\""
      ]
     },
     "metadata": {},
     "output_type": "display_data"
    }
   ],
   "source": [
    "select_particle(\"Dstp\")"
   ]
  },
  {
   "cell_type": "code",
   "execution_count": 9,
   "id": "2901adf3",
   "metadata": {},
   "outputs": [],
   "source": [
    "file_path = \"../particle.fr\";"
   ]
  },
  {
   "cell_type": "code",
   "execution_count": 10,
   "id": "bc0f1c24",
   "metadata": {},
   "outputs": [],
   "source": [
    "# particle_list = [\"pip\", \"pi0\", \"Kp\", \"K0\", \"eta\", \"p\", \"n\", \"L\", \"Sigp\", \"Sigm\", \"Sig0\", \"Xi0\", \"Xim\",\n",
    "# \"rhop\", \"rho0\", \"Kstp\", \"Kst0\", \"phi\", \"ome\"]\n",
    "particle_list = [\"pip\", \"pi0\", \"Kp\", \"K0\", \"eta\", \"Dp\", \"D0\", \"Dsp\"]\n",
    "write_field_info(particle_list, file_path)"
   ]
  },
  {
   "cell_type": "code",
   "execution_count": 12,
   "id": "7cf62a0b",
   "metadata": {},
   "outputs": [],
   "source": [
    "factor_list = [\"fa\", \"gg\"]\n",
    "tex = [\"f\", \"g\"]\n",
    "write_params_info(factor_list, tex, file_path)"
   ]
  },
  {
   "cell_type": "code",
   "execution_count": 6,
   "id": "c0f4d96e",
   "metadata": {},
   "outputs": [],
   "source": [
    "meson_list = [\"pip\", \"pim\", \"pi0\", \"eta\", \"Kp\", \"Km\", \"K0\", \"K0bar\"]\n",
    "baryon_list = [\"p\", \"n\", \"L\", \"Sigp\", \"Sigm\", \"Sig0\", \"Xi0\", \"Xim\"];\n",
    "heavy_meson_list = [\"Dp\", \"D0\", \"Dsp\"];"
   ]
  },
  {
   "cell_type": "code",
   "execution_count": 7,
   "id": "5452288d",
   "metadata": {},
   "outputs": [],
   "source": [
    "sca_path = \"../scattering_channel_MB.wl\";"
   ]
  },
  {
   "cell_type": "code",
   "execution_count": 8,
   "id": "e5dd7d06",
   "metadata": {},
   "outputs": [
    {
     "data": {
      "text/html": [
       "<div><div style = \"float: left;\"><span>4×3 DataFrame</span></div><div style = \"clear: both;\"></div></div><div class = \"data-frame\" style = \"overflow-x: scroll;\"><table class = \"data-frame\" style = \"margin-bottom: 6px;\"><thead><tr class = \"header\"><th class = \"rowNumber\" style = \"font-weight: bold; text-align: right;\">Row</th><th style = \"text-align: left;\">FA_id</th><th style = \"text-align: left;\">ch</th><th style = \"text-align: left;\">thre</th></tr><tr class = \"subheader headerLastRow\"><th class = \"rowNumber\" style = \"font-weight: bold; text-align: right;\"></th><th title = \"String\" style = \"text-align: left;\">String</th><th title = \"String\" style = \"text-align: left;\">String</th><th title = \"Float64\" style = \"text-align: left;\">Float64</th></tr></thead><tbody><tr><td class = \"rowNumber\" style = \"font-weight: bold; text-align: right;\">1</td><td style = \"text-align: left;\">{S[2],S[6]}</td><td style = \"text-align: left;\">(mpi0, mDp)</td><td style = \"text-align: right;\">2004.0</td></tr><tr><td class = \"rowNumber\" style = \"font-weight: bold; text-align: right;\">2</td><td style = \"text-align: left;\">{S[1],S[7]}</td><td style = \"text-align: left;\">(mpip, mD0)</td><td style = \"text-align: right;\">2004.6</td></tr><tr><td class = \"rowNumber\" style = \"font-weight: bold; text-align: right;\">3</td><td style = \"text-align: left;\">{S[5],S[6]}</td><td style = \"text-align: left;\">(meta, mDp)</td><td style = \"text-align: right;\">2417.0</td></tr><tr><td class = \"rowNumber\" style = \"font-weight: bold; text-align: right;\">4</td><td style = \"text-align: left;\">{-S[4],S[8]}</td><td style = \"text-align: left;\">(mK0bar, mDsp)</td><td style = \"text-align: right;\">2467.0</td></tr></tbody></table></div>"
      ],
      "text/latex": [
       "\\begin{tabular}{r|ccc}\n",
       "\t& FA\\_id & ch & thre\\\\\n",
       "\t\\hline\n",
       "\t& String & String & Float64\\\\\n",
       "\t\\hline\n",
       "\t1 & \\{S[2],S[6]\\} & (mpi0, mDp) & 2004.0 \\\\\n",
       "\t2 & \\{S[1],S[7]\\} & (mpip, mD0) & 2004.6 \\\\\n",
       "\t3 & \\{S[5],S[6]\\} & (meta, mDp) & 2417.0 \\\\\n",
       "\t4 & \\{-S[4],S[8]\\} & (mK0bar, mDsp) & 2467.0 \\\\\n",
       "\\end{tabular}\n"
      ],
      "text/plain": [
       "\u001b[1m4×3 DataFrame\u001b[0m\n",
       "\u001b[1m Row \u001b[0m│\u001b[1m FA_id        \u001b[0m\u001b[1m ch             \u001b[0m\u001b[1m thre    \u001b[0m\n",
       "     │\u001b[90m String       \u001b[0m\u001b[90m String         \u001b[0m\u001b[90m Float64 \u001b[0m\n",
       "─────┼───────────────────────────────────────\n",
       "   1 │ {S[2],S[6]}   (mpi0, mDp)      2004.0\n",
       "   2 │ {S[1],S[7]}   (mpip, mD0)      2004.6\n",
       "   3 │ {S[5],S[6]}   (meta, mDp)      2417.0\n",
       "   4 │ {-S[4],S[8]}  (mK0bar, mDsp)   2467.0"
      ]
     },
     "metadata": {},
     "output_type": "display_data"
    }
   ],
   "source": [
    "_scattering_channel(0, 1, meson_list, heavy_meson_list)"
   ]
  },
  {
   "cell_type": "markdown",
   "id": "e57ea1c9",
   "metadata": {},
   "source": [
    "# $\\Lambda(1405)$"
   ]
  },
  {
   "cell_type": "code",
   "execution_count": 8,
   "id": "fe5865cc",
   "metadata": {},
   "outputs": [],
   "source": [
    "dfSm1Q0 = _scattering_channel(-1, 0, meson_list, baryon_list);\n",
    "write_channel_info(\"Sm1Q0\", dfSm1Q0.FA_id, sca_path, mode=\"w+\")"
   ]
  },
  {
   "cell_type": "code",
   "execution_count": 9,
   "id": "3ffc77cc",
   "metadata": {},
   "outputs": [],
   "source": [
    "dfLam = _scattering_channel(-1, 0,0, meson_list, baryon_list);\n",
    "write_channel_info(\"Sm1Q0I0\", dfLam.FA_id, sca_path, mode=\"a+\")"
   ]
  },
  {
   "cell_type": "code",
   "execution_count": 11,
   "id": "0e71cec6",
   "metadata": {},
   "outputs": [],
   "source": [
    "iso0_base = get_isospin_base(dfLam)\n",
    "write_channel_info(\"iso0Base\", iso0_base.FA_id, sca_path, mode=\"a+\")"
   ]
  },
  {
   "cell_type": "code",
   "execution_count": 36,
   "id": "c7bbe7c7",
   "metadata": {},
   "outputs": [],
   "source": []
  },
  {
   "cell_type": "markdown",
   "id": "93fa6f19",
   "metadata": {},
   "source": [
    "# $N(1535)$"
   ]
  },
  {
   "cell_type": "code",
   "execution_count": 37,
   "id": "9d8bc75e",
   "metadata": {},
   "outputs": [
    {
     "name": "stdout",
     "output_type": "stream",
     "text": [
      "\u001b[1mS=0, Q=0\u001b[0m\n",
      "┌──────────────┬──────────────┬─────────┐\n",
      "│\u001b[1m        FA_id \u001b[0m│\u001b[1m           ch \u001b[0m│\u001b[1m    thre \u001b[0m│\n",
      "│\u001b[90m       String \u001b[0m│\u001b[90m       String \u001b[0m│\u001b[90m Float64 \u001b[0m│\n",
      "├──────────────┼──────────────┼─────────┤\n",
      "│  {S[2],F[2]} │   (mpi0, mn) │  1075.0 │\n",
      "│ {-S[1],F[1]} │   (mpim, mp) │  1077.6 │\n",
      "│  {S[5],F[2]} │   (meta, mn) │  1488.0 │\n",
      "│  {S[4],F[3]} │    (mK0, mL) │  1614.0 │\n",
      "│  {S[3],F[6]} │ (mKp, mSigm) │  1691.0 │\n",
      "│  {S[4],F[5]} │ (mK0, mSig0) │  1691.0 │\n",
      "└──────────────┴──────────────┴─────────┘\n"
     ]
    }
   ],
   "source": [
    "dfS0Q0 = MB_scattering_channel(0, 0, meson_list, baryon_list);\n",
    "print_channel_info(\"S0Q0\", dfS0Q0.FA_id, sca_path, mode=\"a+\")"
   ]
  },
  {
   "cell_type": "code",
   "execution_count": 38,
   "id": "bb3a42c9",
   "metadata": {},
   "outputs": [
    {
     "name": "stdout",
     "output_type": "stream",
     "text": [
      "\u001b[1mS=0, Q=1\u001b[0m\n",
      "┌─────────────┬──────────────┬─────────┐\n",
      "│\u001b[1m       FA_id \u001b[0m│\u001b[1m           ch \u001b[0m│\u001b[1m    thre \u001b[0m│\n",
      "│\u001b[90m      String \u001b[0m│\u001b[90m       String \u001b[0m│\u001b[90m Float64 \u001b[0m│\n",
      "├─────────────┼──────────────┼─────────┤\n",
      "│ {S[2],F[1]} │   (mpi0, mp) │  1073.0 │\n",
      "│ {S[1],F[2]} │   (mpip, mn) │  1079.6 │\n",
      "│ {S[5],F[1]} │   (meta, mp) │  1486.0 │\n",
      "│ {S[3],F[3]} │    (mKp, mL) │  1610.0 │\n",
      "│ {S[3],F[5]} │ (mKp, mSig0) │  1687.0 │\n",
      "│ {S[4],F[4]} │ (mK0, mSigp) │  1687.0 │\n",
      "└─────────────┴──────────────┴─────────┘\n"
     ]
    }
   ],
   "source": [
    "dfS0Q1 = MB_scattering_channel(0, 1, meson_list, baryon_list);\n",
    "print_channel_info(\"S0Q1\", dfS0Q1.FA_id, sca_path, mode=\"a+\")"
   ]
  },
  {
   "cell_type": "code",
   "execution_count": 39,
   "id": "0c5fbdef",
   "metadata": {},
   "outputs": [
    {
     "name": "stdout",
     "output_type": "stream",
     "text": [
      "\u001b[1mS=0, Q=2\u001b[0m\n",
      "┌─────────────┬──────────────┬─────────┐\n",
      "│\u001b[1m       FA_id \u001b[0m│\u001b[1m           ch \u001b[0m│\u001b[1m    thre \u001b[0m│\n",
      "│\u001b[90m      String \u001b[0m│\u001b[90m       String \u001b[0m│\u001b[90m Float64 \u001b[0m│\n",
      "├─────────────┼──────────────┼─────────┤\n",
      "│ {S[1],F[1]} │   (mpip, mp) │  1077.6 │\n",
      "│ {S[3],F[4]} │ (mKp, mSigp) │  1683.0 │\n",
      "└─────────────┴──────────────┴─────────┘\n"
     ]
    }
   ],
   "source": [
    "dfS0Q2 = MB_scattering_channel(0, 2, meson_list, baryon_list);\n",
    "print_channel_info(\"S0Q2\", dfS0Q2.FA_id, sca_path, mode=\"a+\")"
   ]
  },
  {
   "cell_type": "code",
   "execution_count": 40,
   "id": "dd4bc299",
   "metadata": {},
   "outputs": [
    {
     "name": "stdout",
     "output_type": "stream",
     "text": [
      "\u001b[1mS=0, Q=1, I=0.5\u001b[0m\n",
      "┌─────────────┬───────────────────────┬─────────┐\n",
      "│\u001b[1m       FA_id \u001b[0m│\u001b[1m                    ch \u001b[0m│\u001b[1m    thre \u001b[0m│\n",
      "│\u001b[90m      String \u001b[0m│\u001b[90m Tuple{String, String} \u001b[0m│\u001b[90m Float64 \u001b[0m│\n",
      "├─────────────┼───────────────────────┼─────────┤\n",
      "│ {S[2],F[1]} │          (\"pi0\", \"p\") │  1073.0 │\n",
      "│ {S[1],F[2]} │          (\"pip\", \"n\") │  1079.6 │\n",
      "│ {S[5],F[1]} │          (\"eta\", \"p\") │  1486.0 │\n",
      "│ {S[3],F[3]} │           (\"Kp\", \"L\") │  1610.0 │\n",
      "│ {S[3],F[5]} │        (\"Kp\", \"Sig0\") │  1687.0 │\n",
      "│ {S[4],F[4]} │        (\"K0\", \"Sigp\") │  1687.0 │\n",
      "└─────────────┴───────────────────────┴─────────┘\n"
     ]
    }
   ],
   "source": [
    "dfN1535 = MB_scattering_channel(0, 1, 1/2, meson_list, baryon_list)\n",
    "print_channel_info(\"S0Q1I1h\", dfN1535.FA_id, sca_path, mode=\"a+\")"
   ]
  },
  {
   "cell_type": "code",
   "execution_count": 41,
   "id": "0614b47c",
   "metadata": {},
   "outputs": [
    {
     "data": {
      "text/html": [
       "<div><div style = \"float: left;\"><span>4×2 DataFrame</span></div><div style = \"clear: both;\"></div></div><div class = \"data-frame\" style = \"overflow-x: scroll;\"><table class = \"data-frame\" style = \"margin-bottom: 6px;\"><thead><tr class = \"header\"><th class = \"rowNumber\" style = \"font-weight: bold; text-align: right;\">Row</th><th style = \"text-align: left;\">FA_id</th><th style = \"text-align: left;\">avg_thre</th></tr><tr class = \"subheader headerLastRow\"><th class = \"rowNumber\" style = \"font-weight: bold; text-align: right;\"></th><th title = \"String\" style = \"text-align: left;\">String</th><th title = \"Float64\" style = \"text-align: left;\">Float64</th></tr></thead><tbody><tr><td class = \"rowNumber\" style = \"font-weight: bold; text-align: right;\">1</td><td style = \"text-align: left;\">{{S[2],F[1]},{S[1],F[2]}}(*(&quot;pi0&quot;, &quot;p&quot;),(&quot;pip&quot;, &quot;n&quot;)*)</td><td style = \"text-align: right;\">1076.3</td></tr><tr><td class = \"rowNumber\" style = \"font-weight: bold; text-align: right;\">2</td><td style = \"text-align: left;\">{{S[5],F[1]}}(*(&quot;eta&quot;, &quot;p&quot;)*)</td><td style = \"text-align: right;\">1486.0</td></tr><tr><td class = \"rowNumber\" style = \"font-weight: bold; text-align: right;\">3</td><td style = \"text-align: left;\">{{S[3],F[3]}}(*(&quot;Kp&quot;, &quot;L&quot;)*)</td><td style = \"text-align: right;\">1610.0</td></tr><tr><td class = \"rowNumber\" style = \"font-weight: bold; text-align: right;\">4</td><td style = \"text-align: left;\">{{S[3],F[5]},{S[4],F[4]}}(*(&quot;Kp&quot;, &quot;Sig0&quot;),(&quot;K0&quot;, &quot;Sigp&quot;)*)</td><td style = \"text-align: right;\">1687.0</td></tr></tbody></table></div>"
      ],
      "text/latex": [
       "\\begin{tabular}{r|cc}\n",
       "\t& FA\\_id & avg\\_thre\\\\\n",
       "\t\\hline\n",
       "\t& String & Float64\\\\\n",
       "\t\\hline\n",
       "\t1 & \\{\\{S[2],F[1]\\},\\{S[1],F[2]\\}\\}(*(\"pi0\", \"p\"),(\"pip\", \"n\")*) & 1076.3 \\\\\n",
       "\t2 & \\{\\{S[5],F[1]\\}\\}(*(\"eta\", \"p\")*) & 1486.0 \\\\\n",
       "\t3 & \\{\\{S[3],F[3]\\}\\}(*(\"Kp\", \"L\")*) & 1610.0 \\\\\n",
       "\t4 & \\{\\{S[3],F[5]\\},\\{S[4],F[4]\\}\\}(*(\"Kp\", \"Sig0\"),(\"K0\", \"Sigp\")*) & 1687.0 \\\\\n",
       "\\end{tabular}\n"
      ],
      "text/plain": [
       "\u001b[1m4×2 DataFrame\u001b[0m\n",
       "\u001b[1m Row \u001b[0m│\u001b[1m FA_id                             \u001b[0m\u001b[1m avg_thre \u001b[0m\n",
       "     │\u001b[90m String                            \u001b[0m\u001b[90m Float64  \u001b[0m\n",
       "─────┼─────────────────────────────────────────────\n",
       "   1 │ {{S[2],F[1]},{S[1],F[2]}}(*(\"pi0…    1076.3\n",
       "   2 │ {{S[5],F[1]}}(*(\"eta\", \"p\")*)        1486.0\n",
       "   3 │ {{S[3],F[3]}}(*(\"Kp\", \"L\")*)         1610.0\n",
       "   4 │ {{S[3],F[5]},{S[4],F[4]}}(*(\"Kp\"…    1687.0"
      ]
     },
     "metadata": {},
     "output_type": "display_data"
    }
   ],
   "source": [
    "iso1h_base = get_isospin_base(dfN1535)\n"
   ]
  },
  {
   "cell_type": "code",
   "execution_count": 42,
   "id": "e2a0ddc7",
   "metadata": {},
   "outputs": [],
   "source": [
    "print_channel_info(\"iso1hBase\", iso1h_base.FA_id, sca_path, mode=\"a+\")"
   ]
  },
  {
   "cell_type": "markdown",
   "id": "79cfe5d8",
   "metadata": {},
   "source": [
    "# $\\Sigma^*$"
   ]
  },
  {
   "cell_type": "code",
   "execution_count": 43,
   "id": "2fdb517f",
   "metadata": {},
   "outputs": [
    {
     "name": "stdout",
     "output_type": "stream",
     "text": [
      "\u001b[1mS=-1, Q=1, I=1\u001b[0m\n",
      "┌──────────────┬───────────────────────┬─────────┐\n",
      "│\u001b[1m        FA_id \u001b[0m│\u001b[1m                    ch \u001b[0m│\u001b[1m    thre \u001b[0m│\n",
      "│\u001b[90m       String \u001b[0m│\u001b[90m Tuple{String, String} \u001b[0m│\u001b[90m Float64 \u001b[0m│\n",
      "├──────────────┼───────────────────────┼─────────┤\n",
      "│  {S[1],F[3]} │          (\"pip\", \"L\") │  1255.6 │\n",
      "│  {S[2],F[4]} │       (\"pi0\", \"Sigp\") │  1324.0 │\n",
      "│  {S[1],F[5]} │       (\"pip\", \"Sig0\") │  1332.6 │\n",
      "│ {-S[4],F[1]} │        (\"K0bar\", \"p\") │  1436.0 │\n",
      "│  {S[5],F[4]} │       (\"eta\", \"Sigp\") │  1737.0 │\n",
      "│  {S[3],F[7]} │         (\"Kp\", \"Xi0\") │  1809.0 │\n",
      "└──────────────┴───────────────────────┴─────────┘\n"
     ]
    }
   ],
   "source": [
    "dfSm1Q1I1 = MB_scattering_channel(-1, 1, 1, meson_list, baryon_list);\n",
    "print_channel_info(\"Sm1Q1I1\", dfSm1Q1I1.FA_id, sca_path, mode=\"a+\")"
   ]
  },
  {
   "cell_type": "code",
   "execution_count": 44,
   "id": "6d01e61f",
   "metadata": {},
   "outputs": [],
   "source": [
    "iso1_base = get_isospin_base(dfSm1Q1I1)\n",
    "print_channel_info(\"iso1Base\", iso1_base.FA_id, sca_path, mode=\"a+\")"
   ]
  }
 ],
 "metadata": {
  "kernelspec": {
   "display_name": "Julia 1.11.5",
   "language": "julia",
   "name": "julia-1.11"
  },
  "language_info": {
   "file_extension": ".jl",
   "mimetype": "application/julia",
   "name": "julia",
   "version": "1.11.5"
  }
 },
 "nbformat": 4,
 "nbformat_minor": 5
}
